{
 "cells": [
  {
   "cell_type": "code",
   "execution_count": 1,
   "metadata": {},
   "outputs": [],
   "source": [
    "import matplotlib.pyplot as plt\n",
    "import numpy as np\n",
    "from tqdm import tqdm_notebook as tqdm"
   ]
  },
  {
   "cell_type": "code",
   "execution_count": 2,
   "metadata": {},
   "outputs": [
    {
     "data": {
      "image/png": "[encoded data removed]",
      "text/plain": [
       "<Figure size 432x288 with 1 Axes>"
      ]
     },
     "metadata": {
      "needs_background": "light"
     },
     "output_type": "display_data"
    }
   ],
   "source": [
    "np.set_printoptions(suppress=True)\n",
    "plt.yscale('log')"
   ]
  },
  {
   "cell_type": "markdown",
   "metadata": {},
   "source": [
    "## Function setup"
   ]
  },
  {
   "cell_type": "code",
   "execution_count": 3,
   "metadata": {},
   "outputs": [],
   "source": [
    "n = 8"
   ]
  },
  {
   "cell_type": "markdown",
   "metadata": {},
   "source": [
    "$A$"
   ]
  },
  {
   "cell_type": "code",
   "execution_count": 4,
   "metadata": {},
   "outputs": [
    {
     "name": "stdout",
     "output_type": "stream",
     "text": [
      "A =\n",
      "[[0.09552717 0.         0.         0.         0.         0.\n",
      "  0.         0.        ]\n",
      " [0.         0.18231248 0.         0.         0.         0.\n",
      "  0.         0.        ]\n",
      " [0.         0.         0.03078369 0.         0.         0.\n",
      "  0.         0.        ]\n",
      " [0.         0.         0.         0.99804957 0.         0.\n",
      "  0.         0.        ]\n",
      " [0.         0.         0.         0.         0.00986432 0.\n",
      "  0.         0.        ]\n",
      " [0.         0.         0.         0.         0.         0.06229688\n",
      "  0.         0.        ]\n",
      " [0.         0.         0.         0.         0.         0.\n",
      "  0.05048721 0.        ]\n",
      " [0.         0.         0.         0.         0.         0.\n",
      "  0.         0.58934285]]\n"
     ]
    }
   ],
   "source": [
    "# A = np.random.randn(n, n)\n",
    "A = np.diag(np.random.uniform(size=n))\n",
    "A = A.T.dot(A) / np.max(A)\n",
    "print('A =', A, sep='\\n')"
   ]
  },
  {
   "cell_type": "markdown",
   "metadata": {},
   "source": [
    "$x = \\begin{pmatrix} x_1 \\\\ ... \\\\ x_n \\end{pmatrix}$"
   ]
  },
  {
   "cell_type": "code",
   "execution_count": 5,
   "metadata": {},
   "outputs": [
    {
     "name": "stdout",
     "output_type": "stream",
     "text": [
      "x_root_0 =\n",
      "[[0.]\n",
      " [0.]\n",
      " [0.]\n",
      " [0.]\n",
      " [0.]\n",
      " [0.]\n",
      " [0.]\n",
      " [0.]]\n",
      "\n",
      "x_root_1 = \n",
      "[[-100.98908904]\n",
      " [  -7.88998305]\n",
      " [  25.35718748]\n",
      " [-126.69106335]\n",
      " [ -19.48318281]\n",
      " [ -41.34354188]\n",
      " [ -46.41341938]\n",
      " [  93.60290689]]\n"
     ]
    }
   ],
   "source": [
    "x_root_0 = np.zeros(n).reshape(n, 1)\n",
    "x_root_1 = np.random.randn(n).reshape(n, 1) * 100\n",
    "print('x_root_0 =', x_root_0, '', 'x_root_1 = ', x_root_1, sep='\\n')"
   ]
  },
  {
   "cell_type": "markdown",
   "metadata": {},
   "source": [
    "$b = \\begin{pmatrix} b_1 \\\\ ... \\\\ b_n \\end{pmatrix}$"
   ]
  },
  {
   "cell_type": "code",
   "execution_count": 6,
   "metadata": {},
   "outputs": [],
   "source": [
    "b = A.dot(x_root_1)\n",
    "# print('b =', b, sep='\\n')"
   ]
  },
  {
   "cell_type": "markdown",
   "metadata": {},
   "source": [
    "### Testing purposes\n",
    "\n",
    "(comment out to turn off)"
   ]
  },
  {
   "cell_type": "code",
   "execution_count": 7,
   "metadata": {},
   "outputs": [],
   "source": [
    "# A = np.diag([1.0 for x in range(n)])\n",
    "# A = np.array([[2, 0],\n",
    "#               [0, 1]])\n",
    "# A = A.T.dot(A)\n",
    "\n",
    "# x_root_0 = np.zeros(n).reshape(n, 1)\n",
    "# x_root_1 = np.array([1.0 for x in range(n)]).T.reshape(n, 1)\n",
    "\n",
    "# b = A.dot(x_root_1)\n",
    "\n",
    "# print('A =', A, sep='\\n')\n",
    "# print('b =', b, sep='\\n')\n",
    "# print('x_root_0 =', x_root_0, 'x_root_1 = ', x_root_1, sep='\\n')\n",
    "\n",
    "# x_min_theory = (x_root_0 + x_root_1) / 2\n",
    "\n",
    "# print('x_min_theory =', x_min_theory, sep='\\n')"
   ]
  },
  {
   "cell_type": "markdown",
   "metadata": {},
   "source": [
    "$f(x) = x^{\\top}Ax - b^{\\top}x$"
   ]
  },
  {
   "cell_type": "code",
   "execution_count": 8,
   "metadata": {},
   "outputs": [],
   "source": [
    "f = lambda x: (x.T).dot(A).dot(x) - (b.T).dot(x)"
   ]
  },
  {
   "cell_type": "markdown",
   "metadata": {},
   "source": [
    "$\\nabla f(x) = 2 Ax - b $"
   ]
  },
  {
   "cell_type": "code",
   "execution_count": 9,
   "metadata": {},
   "outputs": [],
   "source": [
    "grad_f = lambda x: 2 * A.dot(x) - b"
   ]
  },
  {
   "cell_type": "markdown",
   "metadata": {},
   "source": [
    "$\\lambda_{1}, ..., \\lambda_{n}$"
   ]
  },
  {
   "cell_type": "code",
   "execution_count": 10,
   "metadata": {
    "scrolled": true
   },
   "outputs": [
    {
     "name": "stdout",
     "output_type": "stream",
     "text": [
      "A_eigenvalues = [0.00986432 0.03078369 0.05048721 0.06229688 0.09552717 0.18231248\n",
      " 0.58934285 0.99804957]\n"
     ]
    }
   ],
   "source": [
    "A_eigenvalues = np.linalg.eigvalsh(A)\n",
    "print('A_eigenvalues =', A_eigenvalues)"
   ]
  },
  {
   "cell_type": "markdown",
   "metadata": {},
   "source": [
    "$L$ and $\\mu$ (heavy-ball method)"
   ]
  },
  {
   "cell_type": "code",
   "execution_count": 11,
   "metadata": {},
   "outputs": [],
   "source": [
    "L = np.max(A_eigenvalues)\n",
    "mu = np.min(A_eigenvalues)\n",
    "# print(f'L = {L}', f'mu = {mu}', sep='\\n')"
   ]
  },
  {
   "cell_type": "markdown",
   "metadata": {},
   "source": [
    "optimal $\\alpha$ and $\\beta$ values (heavy-ball method)"
   ]
  },
  {
   "cell_type": "code",
   "execution_count": 12,
   "metadata": {},
   "outputs": [
    {
     "name": "stdout",
     "output_type": "stream",
     "text": [
      "alpha_optimal = 3.315763460143083\n",
      "beta_optimal = 0.6710020315027824\n"
     ]
    }
   ],
   "source": [
    "alpha_optimal = 4 / (\n",
    "    (np.sqrt(L) + np.sqrt(mu)) ** 2\n",
    ")\n",
    "\n",
    "beta_optimal = (\n",
    "    ( (np.sqrt(L) - np.sqrt(mu)) ** 2 ) /\n",
    "    ( (np.sqrt(L) + np.sqrt(mu)) ** 2 )\n",
    ")\n",
    "\n",
    "print(f'alpha_optimal = {alpha_optimal}', f'beta_optimal = {beta_optimal}', sep='\\n')"
   ]
  },
  {
   "cell_type": "markdown",
   "metadata": {},
   "source": [
    "## Gradient descent"
   ]
  },
  {
   "cell_type": "code",
   "execution_count": 13,
   "metadata": {},
   "outputs": [],
   "source": [
    "# def GradientDescentMethod(f, x0, epsilon, **kwargs):\n",
    "#     x = x0\n",
    "#     while StopCriterion(x, f, **kwargs) > epsilon:\n",
    "#         h = ComputeGradient(x, f, **kwargs)\n",
    "#         alpha = SelectStepSize(x, h, f, **kwargs)\n",
    "#         x = x - alpha * h\n",
    "#     return x"
   ]
  },
  {
   "cell_type": "code",
   "execution_count": 14,
   "metadata": {
    "scrolled": true
   },
   "outputs": [],
   "source": [
    "def gradient_descent(f, grad_f, x0=[[0], [0]],\n",
    "                     epsilon=10**(-4),\n",
    "                     num_iter=10001,\n",
    "                     alpha=0.1):    \n",
    "    x = np.array(x0)\n",
    "    x_prev = x\n",
    "    \n",
    "    x_history = [x]\n",
    "\n",
    "    for iteration in tqdm(range(1, num_iter)):\n",
    "        x = x - alpha * grad_f(x)\n",
    "        x_history.append(x)\n",
    "        \n",
    "        tol = np.linalg.norm(x - x_prev)\n",
    "        if tol < epsilon:\n",
    "            break\n",
    "        x_prev = x\n",
    "\n",
    "    return {\"x\": x, \"iterations\": iteration, \"tolerance\": tol}, x_history"
   ]
  },
  {
   "cell_type": "code",
   "execution_count": 69,
   "metadata": {
    "scrolled": true
   },
   "outputs": [
    {
     "data": {
      "application/vnd.jupyter.widget-view+json": {
       "model_id": "560c83e4d72749ccba83460f6ed1e5b5",
       "version_major": 2,
       "version_minor": 0
      },
      "text/plain": [
       "HBox(children=(IntProgress(value=0, max=99), HTML(value='')))"
      ]
     },
     "metadata": {},
     "output_type": "display_data"
    },
    {
     "name": "stdout",
     "output_type": "stream",
     "text": [
      "\n",
      "{'x': array([[-43.01534789],\n",
      "       [ -3.84521237],\n",
      "       [  5.79931472],\n",
      "       [-63.34553166],\n",
      "       [ -1.72993124],\n",
      "       [-14.69702131],\n",
      "       [-14.70970678],\n",
      "       [ 46.80126375]]), 'iterations': 99, 'tolerance': 0.19104288050652976}\n"
     ]
    }
   ],
   "source": [
    "x = [[0] for i in range(n)]\n",
    "grad_res, x_history = gradient_descent(\n",
    "    f, grad_f, x0=x,\n",
    "    epsilon=10**(-8),\n",
    "    num_iter=100,\n",
    "    alpha=0.1,\n",
    ")\n",
    "x = grad_res['x']\n",
    "print(grad_res)"
   ]
  },
  {
   "cell_type": "code",
   "execution_count": 71,
   "metadata": {},
   "outputs": [
    {
     "data": {
      "text/plain": [
       "[<matplotlib.lines.Line2D at 0x7fb9ea7b0e80>]"
      ]
     },
     "execution_count": 71,
     "metadata": {},
     "output_type": "execute_result"
    },
    {
     "data": {
      "image/png": "[encoded data removed]",
      "text/plain": [
       "<Figure size 432x288 with 1 Axes>"
      ]
     },
     "metadata": {
      "needs_background": "light"
     },
     "output_type": "display_data"
    }
   ],
   "source": [
    "X = [i for i in range(len(x_history))]\n",
    "Y = [f(i).flatten()[0] for i in x_history]\n",
    "\n",
    "plt.plot(X, Y)"
   ]
  },
  {
   "cell_type": "code",
   "execution_count": 17,
   "metadata": {},
   "outputs": [
    {
     "name": "stdout",
     "output_type": "stream",
     "text": [
      "f(x) = [[-5588.50617669]]\n"
     ]
    }
   ],
   "source": [
    "print('f(x) =', f(x))"
   ]
  },
  {
   "cell_type": "markdown",
   "metadata": {},
   "source": [
    "## Heavy Ball Method"
   ]
  },
  {
   "cell_type": "code",
   "execution_count": 18,
   "metadata": {},
   "outputs": [],
   "source": [
    "# class HeavyBall(base.LineSearchOptimizer):\n",
    "#     ...\n",
    "#\n",
    "#     def get_direction(self, x):\n",
    "#         self._current_grad = self._grad(x)\n",
    "#         return -self._current_grad\n",
    "#\n",
    "#     def _f_update_x_next(self, x, alpha, h):\n",
    "#         if len(self.convergence) < 2:\n",
    "#             return x + alpha * h\n",
    "#         else:\n",
    "#             return x + alpha * h + self._beta * (x - self.convergence[-2])\n",
    "#\n",
    "#     def get_stepsize(self):\n",
    "#         return self._step_size.get_stepsize(self._grad_mem[-1],\n",
    "#                                             self.convergence[-1],\n",
    "#                                             len(self.convergence))"
   ]
  },
  {
   "cell_type": "code",
   "execution_count": 19,
   "metadata": {},
   "outputs": [],
   "source": [
    "def heavy_ball_basic(f, grad_f, x0,\n",
    "                     epsilon,\n",
    "                     num_iter,\n",
    "                     alpha,\n",
    "                     beta):\n",
    "    x = [np.array(x0).copy(),\n",
    "         np.array(x0).copy()]\n",
    "    \n",
    "    x_history = [x[0]]\n",
    "    \n",
    "    for iteration in tqdm(range(1, num_iter)):\n",
    "        x.append( x[-1] - alpha * grad_f(x[-1]) + beta * (x[-1] - x[-2]) )\n",
    "        \n",
    "        x_history.append(x[-1])\n",
    "        \n",
    "#         print(x[0].flatten())\n",
    "        \n",
    "        tol = np.linalg.norm(x[-1] - x[-2])\n",
    "        if tol < epsilon:\n",
    "            break\n",
    "\n",
    "        del x[0]\n",
    "\n",
    "    return {\"x\": x[-1], \"iterations\": iteration, \"tolerance\": tol}, x_history"
   ]
  },
  {
   "cell_type": "code",
   "execution_count": 58,
   "metadata": {},
   "outputs": [
    {
     "data": {
      "application/vnd.jupyter.widget-view+json": {
       "model_id": "f8eedcd3c48444958cd41e2642b7f03f",
       "version_major": 2,
       "version_minor": 0
      },
      "text/plain": [
       "HBox(children=(IntProgress(value=0, max=99), HTML(value='')))"
      ]
     },
     "metadata": {},
     "output_type": "display_data"
    },
    {
     "name": "stdout",
     "output_type": "stream",
     "text": [
      "\n",
      "{'x': array([[-50.21055518],\n",
      "       [ -3.92421571],\n",
      "       [ 12.62562276],\n",
      "       [-63.37159795],\n",
      "       [ -8.67673198],\n",
      "       [-20.79188458],\n",
      "       [-23.26750274],\n",
      "       [ 47.0529146 ]]), 'iterations': 99, 'tolerance': 0.16752359003863687}\n"
     ]
    }
   ],
   "source": [
    "x = [[0.0] for i in range(n)]\n",
    "grad_res, x_history = heavy_ball_basic(\n",
    "    f, grad_f, x0=x,\n",
    "    epsilon=10**(-16),\n",
    "    num_iter=100,\n",
    "    alpha=0.1,\n",
    "    beta=0.9,\n",
    ")\n",
    "x = grad_res['x']\n",
    "print(grad_res)"
   ]
  },
  {
   "cell_type": "code",
   "execution_count": 59,
   "metadata": {},
   "outputs": [
    {
     "data": {
      "text/plain": [
       "[<matplotlib.lines.Line2D at 0x7fb9eac21048>]"
      ]
     },
     "execution_count": 59,
     "metadata": {},
     "output_type": "execute_result"
    },
    {
     "data": {
      "image/png": "[encoded data removed]",
      "text/plain": [
       "<Figure size 432x288 with 1 Axes>"
      ]
     },
     "metadata": {
      "needs_background": "light"
     },
     "output_type": "display_data"
    }
   ],
   "source": [
    "X = [i for i in range(len(x_history))]\n",
    "Y = [f(i).flatten()[0] for i in x_history]\n",
    "\n",
    "Y = [x - f(x_history[-1]).flatten()[0] for x in Y]\n",
    "\n",
    "plt.loglog(X, Y)"
   ]
  },
  {
   "cell_type": "code",
   "execution_count": 22,
   "metadata": {
    "scrolled": false
   },
   "outputs": [
    {
     "name": "stdout",
     "output_type": "stream",
     "text": [
      "f(x) = [[-5601.75250424]]\n"
     ]
    }
   ],
   "source": [
    "print('f(x) =', f(x))"
   ]
  },
  {
   "cell_type": "markdown",
   "metadata": {},
   "source": [
    "## Heavy Ball Method with average tolerance"
   ]
  },
  {
   "cell_type": "code",
   "execution_count": 23,
   "metadata": {},
   "outputs": [],
   "source": [
    "def heavy_ball_average(f, grad_f, x0,\n",
    "                       epsilon,\n",
    "                       num_iter,\n",
    "                       alpha,\n",
    "                       beta):\n",
    "    x = [np.array(x0).copy(),\n",
    "         np.array(x0).copy()]\n",
    "    \n",
    "    prev_avg = x0\n",
    "    \n",
    "    x_history = [prev_avg]\n",
    "    \n",
    "    for iteration in tqdm(range(1, num_iter)):\n",
    "        x.append( x[-1] - alpha * grad_f(x[-1]) + beta * (x[-1] - x[-2]) )\n",
    "        \n",
    "\n",
    "        curr_avg = (prev_avg  + x[-1] / iteration) * iteration / (iteration + 1)\n",
    "#         print(x[0].flatten())\n",
    "\n",
    "        x_history.append(curr_avg)\n",
    "        \n",
    "        tol = np.linalg.norm(curr_avg - prev_avg)\n",
    "        if tol < epsilon:\n",
    "            break\n",
    "\n",
    "        del x[0]\n",
    "        prev_avg = curr_avg\n",
    "\n",
    "    return {\"x\": curr_avg, \"iterations\": iteration, \"tolerance\": tol}, x_history"
   ]
  },
  {
   "cell_type": "code",
   "execution_count": 31,
   "metadata": {
    "scrolled": true
   },
   "outputs": [
    {
     "data": {
      "application/vnd.jupyter.widget-view+json": {
       "model_id": "2a42f9c02c17461fbbc204dddc76f8c0",
       "version_major": 2,
       "version_minor": 0
      },
      "text/plain": [
       "HBox(children=(IntProgress(value=0, max=99), HTML(value='')))"
      ]
     },
     "metadata": {},
     "output_type": "display_data"
    },
    {
     "name": "stdout",
     "output_type": "stream",
     "text": [
      "\n",
      "{'x': array([[-47.85434401],\n",
      "       [ -3.83729732],\n",
      "       [ 10.63000775],\n",
      "       [-63.02096361],\n",
      "       [ -5.20395206],\n",
      "       [-19.01058288],\n",
      "       [-20.89495463],\n",
      "       [ 46.40563468]]), 'iterations': 99, 'tolerance': 0.05619095004203436}\n"
     ]
    }
   ],
   "source": [
    "x = [[0.0] for i in range(n)]\n",
    "grad_res, x_history = heavy_ball_average(\n",
    "    f, grad_f, x0=x,\n",
    "    epsilon=10**(-16),\n",
    "    num_iter=100,\n",
    "    alpha=0.1,\n",
    "    beta=0.9,\n",
    ")\n",
    "x = grad_res['x']\n",
    "print(grad_res)"
   ]
  },
  {
   "cell_type": "code",
   "execution_count": 32,
   "metadata": {
    "scrolled": false
   },
   "outputs": [
    {
     "name": "stdout",
     "output_type": "stream",
     "text": [
      "f(x) = [[-5600.17109007]]\n"
     ]
    }
   ],
   "source": [
    "print('f(x) =', f(x))"
   ]
  },
  {
   "cell_type": "code",
   "execution_count": 34,
   "metadata": {},
   "outputs": [
    {
     "data": {
      "text/plain": [
       "[<matplotlib.lines.Line2D at 0x7fb9ebd0e6a0>]"
      ]
     },
     "execution_count": 34,
     "metadata": {},
     "output_type": "execute_result"
    },
    {
     "data": {
      "image/png": "[encoded data removed]",
      "text/plain": [
       "<Figure size 432x288 with 1 Axes>"
      ]
     },
     "metadata": {
      "needs_background": "light"
     },
     "output_type": "display_data"
    }
   ],
   "source": [
    "X = np.array([i for i in range(len(x_history))])\n",
    "Y = [f(np.array(i)).flatten()[0] for i in x_history]\n",
    "\n",
    "plt.plot(X, Y)"
   ]
  },
  {
   "cell_type": "code",
   "execution_count": null,
   "metadata": {},
   "outputs": [],
   "source": []
  },
  {
   "cell_type": "code",
   "execution_count": null,
   "metadata": {},
   "outputs": [],
   "source": []
  },
  {
   "cell_type": "code",
   "execution_count": null,
   "metadata": {},
   "outputs": [],
   "source": []
  },
  {
   "cell_type": "code",
   "execution_count": null,
   "metadata": {},
   "outputs": [],
   "source": []
  },
  {
   "cell_type": "code",
   "execution_count": 80,
   "metadata": {},
   "outputs": [
    {
     "data": {
      "application/vnd.jupyter.widget-view+json": {
       "model_id": "2eea8b9ed1f14254a53fb21d262208ef",
       "version_major": 2,
       "version_minor": 0
      },
      "text/plain": [
       "HBox(children=(IntProgress(value=0, max=99), HTML(value='')))"
      ]
     },
     "metadata": {},
     "output_type": "display_data"
    },
    {
     "name": "stdout",
     "output_type": "stream",
     "text": [
      "\n"
     ]
    }
   ],
   "source": [
    "x = [[0] for i in range(n)]\n",
    "grad_res, x_history = gradient_descent(\n",
    "    f, grad_f, x0=x,\n",
    "    epsilon=10**(-8),\n",
    "    num_iter=100,\n",
    "    alpha=0.1,\n",
    ")\n",
    "x = grad_res['x']\n",
    "\n",
    "X1 = np.array([i for i in range(len(x_history))])\n",
    "Y1 = [f(np.array(i)).flatten()[0] for i in x_history]"
   ]
  },
  {
   "cell_type": "code",
   "execution_count": 81,
   "metadata": {},
   "outputs": [
    {
     "data": {
      "application/vnd.jupyter.widget-view+json": {
       "model_id": "805ade3442c04a488374a0c020d34819",
       "version_major": 2,
       "version_minor": 0
      },
      "text/plain": [
       "HBox(children=(IntProgress(value=0, max=99), HTML(value='')))"
      ]
     },
     "metadata": {},
     "output_type": "display_data"
    },
    {
     "name": "stdout",
     "output_type": "stream",
     "text": [
      "\n"
     ]
    }
   ],
   "source": [
    "x = [[0.0] for i in range(n)]\n",
    "grad_res, x_history = heavy_ball_basic(\n",
    "    f, grad_f, x0=x,\n",
    "    epsilon=10**(-16),\n",
    "    num_iter=100,\n",
    "    alpha=0.1,\n",
    "    beta=0.9,\n",
    ")\n",
    "x = grad_res['x']\n",
    "\n",
    "X2 = np.array([i for i in range(len(x_history))])\n",
    "Y2 = [f(np.array(i)).flatten()[0] for i in x_history]"
   ]
  },
  {
   "cell_type": "code",
   "execution_count": 82,
   "metadata": {},
   "outputs": [
    {
     "data": {
      "application/vnd.jupyter.widget-view+json": {
       "model_id": "debb18ab8e4b4a17866970d0fe58d79d",
       "version_major": 2,
       "version_minor": 0
      },
      "text/plain": [
       "HBox(children=(IntProgress(value=0, max=99), HTML(value='')))"
      ]
     },
     "metadata": {},
     "output_type": "display_data"
    },
    {
     "name": "stdout",
     "output_type": "stream",
     "text": [
      "\n"
     ]
    }
   ],
   "source": [
    "x = [[0.0] for i in range(n)]\n",
    "grad_res, x_history = heavy_ball_basic(\n",
    "    f, grad_f, x0=x,\n",
    "    epsilon=10**(-16),\n",
    "    num_iter=100,\n",
    "    alpha=0.1,\n",
    "    beta=0.9,\n",
    ")\n",
    "x = grad_res['x']\n",
    "\n",
    "X3 = np.array([i for i in range(len(x_history))])\n",
    "Y3 = [f(np.array(i)).flatten()[0] for i in x_history]"
   ]
  },
  {
   "cell_type": "code",
   "execution_count": 86,
   "metadata": {},
   "outputs": [
    {
     "data": {
      "text/plain": [
       "[<matplotlib.lines.Line2D at 0x7fb9ea4f93c8>]"
      ]
     },
     "execution_count": 86,
     "metadata": {},
     "output_type": "execute_result"
    },
    {
     "data": {
      "image/png": "[encoded data removed]",
      "text/plain": [
       "<Figure size 432x288 with 1 Axes>"
      ]
     },
     "metadata": {
      "needs_background": "light"
     },
     "output_type": "display_data"
    }
   ],
   "source": [
    "# plt.plot(X1, Y1, X2, Y2, X3, Y3)\n",
    "plt.plot(X1, Y1, color='red')\n",
    "plt.plot(X2, Y2, color='blue')\n",
    "plt.plot(X3, Y3, color='gr')"
   ]
  },
  {
   "cell_type": "code",
   "execution_count": null,
   "metadata": {},
   "outputs": [],
   "source": []
  },
  {
   "cell_type": "code",
   "execution_count": null,
   "metadata": {},
   "outputs": [],
   "source": []
  }
 ],
 "metadata": {
  "kernelspec": {
   "display_name": "Python 3",
   "language": "python",
   "name": "python3"
  },
  "language_info": {
   "codemirror_mode": {
    "name": "ipython",
    "version": 3
   },
   "file_extension": ".py",
   "mimetype": "text/x-python",
   "name": "python",
   "nbconvert_exporter": "python",
   "pygments_lexer": "ipython3",
   "version": "3.7.3"
  }
 },
 "nbformat": 4,
 "nbformat_minor": 2
}
